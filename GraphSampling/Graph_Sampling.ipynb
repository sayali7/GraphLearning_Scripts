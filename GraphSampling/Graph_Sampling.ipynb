{
 "cells": [
  {
   "cell_type": "code",
   "execution_count": 61,
   "id": "65bab819",
   "metadata": {},
   "outputs": [],
   "source": [
    "from collections import Counter\n",
    "import pandas as pd\n",
    "import numpy as np\n",
    "import pickle\n",
    "import tqdm\n",
    "import math\n",
    "import random\n",
    "\n",
    "from torch_geometric.sampler import BaseSampler, NodeSamplerInput, EdgeSamplerInput\n",
    "from torch_geometric.loader import NeighborLoader\n",
    "\n",
    "from sklearn.model_selection import train_test_split\n",
    "from sklearn.model_selection import StratifiedShuffleSplit"
   ]
  },
  {
   "cell_type": "code",
   "execution_count": 49,
   "id": "c07a2da7",
   "metadata": {},
   "outputs": [],
   "source": [
    "np.random.seed(42)"
   ]
  },
  {
   "cell_type": "markdown",
   "id": "6ddd6483",
   "metadata": {},
   "source": [
    "Graph sampling implementation using Neighborloader (torch_geometric). Generates graph samples by balancing classes in the dataset."
   ]
  },
  {
   "cell_type": "markdown",
   "id": "e2eff6f8",
   "metadata": {},
   "source": [
    "#### For multiclass"
   ]
  },
  {
   "cell_type": "code",
   "execution_count": 50,
   "id": "f8d64c99",
   "metadata": {},
   "outputs": [
    {
     "name": "stdout",
     "output_type": "stream",
     "text": [
      "braak #samples #subgraphs_to_be_generated\n",
      "0 36 12\n",
      "1 55 6\n",
      "2 74 4\n",
      "3 75 4\n",
      "4 52 8\n",
      "5 62 6\n",
      "6 218 2\n",
      "total graphs: 2582\n"
     ]
    }
   ],
   "source": [
    "sample_ids_file = \"./graph_with_edgeW_sample_id.pkl\"\n",
    "file = open(sample_ids_file, 'rb')\n",
    "sample_ids = pickle.load(file)\n",
    "\n",
    "labels = pd.read_csv(\"./metadata.csv\")\n",
    "labels.index = labels.SubID\n",
    "labels_sub = labels[['SubID', 'BRAAK_AD']]\n",
    "labels_sub=labels_sub.loc[sample_ids]\n",
    "\n",
    "label_sub_val_counts = labels_sub[\"BRAAK_AD\"].value_counts()\n",
    "count=0\n",
    "subgraphs_per_gr = {}\n",
    "print (\"braak\",\"#samples\",\"#subgraphs_to_be_generated\")\n",
    "for i in range(len(label_sub_val_counts)):\n",
    "    print(i, label_sub_val_counts[i], int(label_sub_val_counts.max()/label_sub_val_counts[i])*2)\n",
    "    count+= label_sub_val_counts[i]* int(label_sub_val_counts.max()/label_sub_val_counts[i])*2\n",
    "    subgraphs_per_gr[i] = int(label_sub_val_counts.max()/label_sub_val_counts[i])*2\n",
    "print (f'total graphs: {count}')"
   ]
  },
  {
   "cell_type": "code",
   "execution_count": 52,
   "id": "e0bc23ae",
   "metadata": {},
   "outputs": [],
   "source": [
    "all_graphs=[]\n",
    "all_graphs_braak=[]\n",
    "all_graphs_sample_ids=[]"
   ]
  },
  {
   "cell_type": "code",
   "execution_count": 53,
   "id": "a66d92ee",
   "metadata": {},
   "outputs": [
    {
     "name": "stderr",
     "output_type": "stream",
     "text": [
      "/home/sayali/.local/lib/python3.10/site-packages/torch_geometric/sampler/neighbor_sampler.py:50: UserWarning: Using '{self.__class__.__name__}' without a 'pyg-lib' installation is deprecated and will be removed soon. Please install 'pyg-lib' for accelerated neighborhood sampling\n",
      "  warnings.warn(\"Using '{self.__class__.__name__}' without a \"\n"
     ]
    }
   ],
   "source": [
    "for s_id in sample_ids:\n",
    "    br = labels_sub.loc[s_id][\"BRAAK_AD\"]\n",
    "    NUM_SUBGRAPHS = subgraphs_per_gr[br]\n",
    "    data = graphs[sample_ids.index(s_id)]\n",
    "    loader = NeighborLoader(\n",
    "    data,\n",
    "    num_neighbors=[10] * 3,\n",
    "    batch_size=math.ceil(data.x.shape[0]/NUM_SUBGRAPHS), # number of nodes to keep in each sampled graph\n",
    "    )\n",
    "    if len(loader) > NUM_SUBGRAPHS:\n",
    "        print (\"Length greater than 3 detected ...\")\n",
    "        print (\"Skipping this graph ...\")\n",
    "        continue\n",
    "    for d in loader:\n",
    "        all_graphs.append(d)\n",
    "        all_graphs_braak.append(br)\n",
    "        all_graphs_sample_ids.append(s_id)\n",
    "    #break"
   ]
  },
  {
   "cell_type": "code",
   "execution_count": 54,
   "id": "fc9b5b4d",
   "metadata": {},
   "outputs": [
    {
     "data": {
      "text/plain": [
       "(2582, 572, 2582)"
      ]
     },
     "execution_count": 54,
     "metadata": {},
     "output_type": "execute_result"
    }
   ],
   "source": [
    "len(all_graphs), len(graphs), len(all_graphs_braak)"
   ]
  },
  {
   "cell_type": "markdown",
   "id": "c5229921",
   "metadata": {},
   "source": [
    "save all graphs, braak levels"
   ]
  },
  {
   "cell_type": "code",
   "execution_count": null,
   "id": "7f2e5cdc",
   "metadata": {},
   "outputs": [],
   "source": [
    "with open('./graph_with_edgeW_all_subgraphs.pkl', 'wb') as f:\n",
    "    pickle.dump(all_graphs, f)\n",
    "\n",
    "with open('./graph_with_edgeW_all_braak_levels.pkl', 'wb') as f:\n",
    "    pickle.dump(all_graphs_sample_ids, f)"
   ]
  },
  {
   "cell_type": "code",
   "execution_count": 55,
   "id": "bf20db82",
   "metadata": {},
   "outputs": [],
   "source": [
    "X_train, X_test, y_train, y_test = train_test_split(all_graphs, all_graphs_braak,stratify=all_graphs_braak,test_size=0.2)\n",
    "\n",
    "with open('./graph_with_edgeW_train_subgraphs.pkl', 'wb') as f:\n",
    "    pickle.dump(X_train, f)\n",
    "\n",
    "with open('./graph_with_edgeW_test_subgraphs.pkl', 'wb') as f:\n",
    "    pickle.dump(X_test, f)\n",
    "\n",
    "with open('./graph_with_edgeW_train_subgraphs_braak_levels.pkl', 'wb') as f:\n",
    "    pickle.dump(y_train, f)\n",
    "\n",
    "with open('./graph_with_edgeW_test_subgraphs_braak_levels.pkl', 'wb') as f:\n",
    "    pickle.dump(y_test, f)"
   ]
  },
  {
   "cell_type": "code",
   "execution_count": 62,
   "id": "fd993c7f",
   "metadata": {},
   "outputs": [
    {
     "data": {
      "text/plain": [
       "Counter({1.0: 330, 0.0: 432, 5.0: 372, 6.0: 436, 2.0: 296, 3.0: 300, 4.0: 416})"
      ]
     },
     "execution_count": 62,
     "metadata": {},
     "output_type": "execute_result"
    }
   ],
   "source": [
    "Counter(all_graphs_braak)"
   ]
  },
  {
   "cell_type": "code",
   "execution_count": 64,
   "id": "2c228006",
   "metadata": {},
   "outputs": [
    {
     "data": {
      "text/plain": [
       "(2065, 517)"
      ]
     },
     "execution_count": 64,
     "metadata": {},
     "output_type": "execute_result"
    }
   ],
   "source": [
    "len(X_train), len(X_test)"
   ]
  },
  {
   "cell_type": "code",
   "execution_count": 63,
   "id": "9638ec38",
   "metadata": {},
   "outputs": [
    {
     "data": {
      "text/plain": [
       "(Counter({4.0: 333,\n",
       "          0.0: 345,\n",
       "          2.0: 237,\n",
       "          3.0: 240,\n",
       "          6.0: 349,\n",
       "          1.0: 264,\n",
       "          5.0: 297}),\n",
       " Counter({4.0: 83, 2.0: 59, 0.0: 87, 1.0: 66, 6.0: 87, 3.0: 60, 5.0: 75}))"
      ]
     },
     "execution_count": 63,
     "metadata": {},
     "output_type": "execute_result"
    }
   ],
   "source": [
    "Counter(y_train), Counter(y_test)"
   ]
  },
  {
   "cell_type": "markdown",
   "id": "a4de69ab",
   "metadata": {},
   "source": [
    "#### For binary labels"
   ]
  },
  {
   "cell_type": "code",
   "execution_count": 5,
   "id": "cfbdd08f",
   "metadata": {},
   "outputs": [],
   "source": [
    "GRAPH_PKL_FILE=\"./graph_with_edgeW.pkl\"\n",
    "file = open(GRAPH_PKL_FILE, 'rb')\n",
    "graphs = pickle.load(file)"
   ]
  },
  {
   "cell_type": "code",
   "execution_count": 3,
   "id": "3d06c018",
   "metadata": {},
   "outputs": [],
   "source": [
    "NUM_SUBGRAPHS=2"
   ]
  },
  {
   "cell_type": "code",
   "execution_count": 6,
   "id": "6e6d26dc",
   "metadata": {},
   "outputs": [],
   "source": [
    "all_graphs=[]"
   ]
  },
  {
   "cell_type": "code",
   "execution_count": 7,
   "id": "2513e27a",
   "metadata": {},
   "outputs": [
    {
     "name": "stderr",
     "output_type": "stream",
     "text": [
      "/home/sayali/.local/lib/python3.10/site-packages/torch_geometric/sampler/neighbor_sampler.py:50: UserWarning: Using '{self.__class__.__name__}' without a 'pyg-lib' installation is deprecated and will be removed soon. Please install 'pyg-lib' for accelerated neighborhood sampling\n",
      "  warnings.warn(\"Using '{self.__class__.__name__}' without a \"\n"
     ]
    }
   ],
   "source": [
    "for data in graphs:\n",
    "    loader = NeighborLoader(\n",
    "    data,\n",
    "    num_neighbors=[10] * 3,\n",
    "    batch_size=math.ceil(data.x.shape[0]/NUM_SUBGRAPHS), # number of nodes to keep in each sampled graph\n",
    "    )\n",
    "    if len(loader) > NUM_SUBGRAPHS:\n",
    "        print (\"Length greater than 3 detected ...\")\n",
    "        print (\"Skipping this graph ...\")\n",
    "        continue\n",
    "    for d in loader:\n",
    "        all_graphs.append(d)"
   ]
  },
  {
   "cell_type": "code",
   "execution_count": 8,
   "id": "121d8087",
   "metadata": {},
   "outputs": [
    {
     "data": {
      "text/plain": [
       "(1242, 1242)"
      ]
     },
     "execution_count": 8,
     "metadata": {},
     "output_type": "execute_result"
    }
   ],
   "source": [
    "len(all_graphs), len(graphs)*NUM_SUBGRAPHS"
   ]
  },
  {
   "cell_type": "code",
   "execution_count": 16,
   "id": "d9329278",
   "metadata": {},
   "outputs": [],
   "source": [
    "with open('./graph_with_edgeW_subgraphs_2_each.pkl', 'wb') as f:\n",
    "    pickle.dump(all_graphs, f)"
   ]
  },
  {
   "cell_type": "code",
   "execution_count": null,
   "id": "57de1c5e",
   "metadata": {},
   "outputs": [],
   "source": []
  },
  {
   "cell_type": "code",
   "execution_count": null,
   "id": "458b44c7",
   "metadata": {},
   "outputs": [],
   "source": []
  },
  {
   "cell_type": "code",
   "execution_count": null,
   "id": "81e86ba8",
   "metadata": {},
   "outputs": [],
   "source": []
  },
  {
   "cell_type": "code",
   "execution_count": null,
   "id": "400208d1",
   "metadata": {},
   "outputs": [],
   "source": []
  }
 ],
 "metadata": {
  "kernelspec": {
   "display_name": "Python 3 (ipykernel)",
   "language": "python",
   "name": "python3"
  },
  "language_info": {
   "codemirror_mode": {
    "name": "ipython",
    "version": 3
   },
   "file_extension": ".py",
   "mimetype": "text/x-python",
   "name": "python",
   "nbconvert_exporter": "python",
   "pygments_lexer": "ipython3",
   "version": "3.10.12"
  }
 },
 "nbformat": 4,
 "nbformat_minor": 5
}
