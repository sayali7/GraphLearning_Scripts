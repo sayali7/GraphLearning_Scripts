{
 "cells": [
  {
   "cell_type": "code",
   "execution_count": 1,
   "id": "40c1520e",
   "metadata": {},
   "outputs": [],
   "source": [
    "import os\n",
    "import time\n",
    "import random\n",
    "import pickle\n",
    "import tqdm"
   ]
  },
  {
   "cell_type": "code",
   "execution_count": 2,
   "id": "25e09370",
   "metadata": {
    "scrolled": true
   },
   "outputs": [],
   "source": [
    "import pandas as pd\n",
    "import numpy as np\n",
    "import pecanpy as pp\n",
    "import networkx as nx"
   ]
  },
  {
   "cell_type": "code",
   "execution_count": 3,
   "id": "175d83e0",
   "metadata": {
    "scrolled": true
   },
   "outputs": [],
   "source": [
    "from stellargraph.data import BiasedRandomWalk\n",
    "from stellargraph import StellarGraph\n",
    "from gensim.models import Word2Vec"
   ]
  },
  {
   "cell_type": "markdown",
   "id": "f7b72c9d",
   "metadata": {},
   "source": [
    "#### Load graphs"
   ]
  },
  {
   "cell_type": "code",
   "execution_count": 4,
   "id": "aab4c7e2",
   "metadata": {},
   "outputs": [],
   "source": [
    "with open('./graphs.pkl', 'rb') as f:\n",
    "    dataset = pickle.load(f)\n",
    "#dataset: dict with graph ids as keys"
   ]
  },
  {
   "cell_type": "code",
   "execution_count": 5,
   "id": "2431e892",
   "metadata": {},
   "outputs": [],
   "source": [
    "grn_ids = list(dataset.keys())"
   ]
  },
  {
   "cell_type": "code",
   "execution_count": 6,
   "id": "b3a27b6d",
   "metadata": {},
   "outputs": [
    {
     "data": {
      "text/plain": [
       "248"
      ]
     },
     "execution_count": 6,
     "metadata": {},
     "output_type": "execute_result"
    }
   ],
   "source": [
    "len(grn_ids)"
   ]
  },
  {
   "cell_type": "code",
   "execution_count": 7,
   "id": "72a6a2be",
   "metadata": {},
   "outputs": [],
   "source": [
    "GRN_FOLDER=\"./links/\"\n",
    "GRN_NODE2VEC_FOLDER=\"./Node2Vec/\"\n",
    "NODE2VEC_EDGE_LIST_FOLDER = \"./Node2Vec/EdgeLists/\""
   ]
  },
  {
   "cell_type": "code",
   "execution_count": 8,
   "id": "45b1a38c",
   "metadata": {},
   "outputs": [],
   "source": [
    "celltypes = ['Astro', 'EN_L2_3_IT', 'EN_L3_5_IT_1', 'EN_L3_5_IT_2', 'EN_L3_5_IT_3', \n",
    "            'IN_ADARB2', 'IN_LAMP5', 'IN_SST', 'IN_VIP', 'Micro_PVM', 'OPC', 'Oligo']"
   ]
  },
  {
   "cell_type": "markdown",
   "id": "6f6770f9",
   "metadata": {},
   "source": [
    "#### PecanPy"
   ]
  },
  {
   "cell_type": "code",
   "execution_count": 9,
   "id": "15fe2b01",
   "metadata": {},
   "outputs": [],
   "source": [
    "runs = 20  # Number of runs\n",
    "folds = 5  # Folds per run\n",
    "run, fold = 0, 0  # Current stat\n",
    "percentile = 80  # Data filtering\n",
    "param_grid = {\n",
    "    'dim': [16, 32, 64, 128, 248, 512],\n",
    "    'num_walks': [20, 40, 60, 80, 100],\n",
    "    'walk_length': [10],\n",
    "    'dropout': [0, .4, .6, .8],\n",
    "    'gamma': [.96, .99, .995],\n",
    "    'lr': [1e-1, 1e-2, 1e-3, 1e-4],\n",
    "}\n",
    "np.random.seed(42)\n",
    "dim_list = np.random.choice(param_grid['dim'], runs)\n",
    "num_walks_list = np.random.choice(param_grid['num_walks'], runs)\n",
    "walk_length_list = np.random.choice(param_grid['walk_length'], runs)\n",
    "dropout_list = np.random.choice(param_grid['dropout'], runs)\n",
    "gamma_list = np.random.choice(param_grid['gamma'], runs)\n",
    "lr_list = np.random.choice(param_grid['lr'], runs)"
   ]
  },
  {
   "cell_type": "code",
   "execution_count": 10,
   "id": "76749be1",
   "metadata": {},
   "outputs": [],
   "source": [
    "dim=16\n",
    "num_walks=20\n",
    "walk_length=10\n",
    "verbose = False"
   ]
  },
  {
   "cell_type": "code",
   "execution_count": 12,
   "id": "188484fa",
   "metadata": {},
   "outputs": [
    {
     "name": "stderr",
     "output_type": "stream",
     "text": [
      "100%|███████████████████████████████████████████| 84/84 [42:58<00:00, 30.69s/it]\n"
     ]
    }
   ],
   "source": [
    "for patient_id in tqdm.tqdm(grn_ids[164:]):\n",
    "    grn_file = patient_id+\"_grn.csv\"\n",
    "    if not os.path.exists(NODE2VEC_EDGE_LIST_FOLDER+patient_id):\n",
    "        os.makedirs(NODE2VEC_EDGE_LIST_FOLDER+patient_id)\n",
    "        \n",
    "    try:\n",
    "        if grn_file.endswith(\"csv\"):\n",
    "            grn = pd.read_csv(GRN_FOLDER+grn_file)\n",
    "            grn_ctypes=grn.groupby(\"ctype\")\n",
    "            c_type_dict={}\n",
    "\n",
    "            for n,g_ctype in grn_ctypes: \n",
    "                if n in celltypes:\n",
    "                    src=g_ctype[\"source\"].to_list()\n",
    "                    trg=g_ctype[\"target\"].to_list()\n",
    "\n",
    "                    edges = [x for x in zip(src,trg)]\n",
    "                    G = nx.DiGraph()\n",
    "                    G.add_edges_from(edges)\n",
    "                    edg_fname=NODE2VEC_EDGE_LIST_FOLDER+patient_id+\"/\"+n+\"_elist.edg\"\n",
    "                    nx.write_edgelist(G, edg_fname)\n",
    "\n",
    "                    g = pp.pecanpy.SparseOTF(p=1, q=1, workers=4, verbose=False)\n",
    "                    emb_fname = f'{NODE2VEC_EDGE_LIST_FOLDER}/{patient_id}/{n}_dim{dim}_emb.npy'\n",
    "\n",
    "                    if os.path.exists(emb_fname):\n",
    "                        if verbose:\n",
    "                            print('Loading embeddings...')\n",
    "                        emb_pp = np.load(emb_fname)\n",
    "                    else:\n",
    "                        if verbose:\n",
    "                            print('Generating embeddings...')\n",
    "                        g.read_edg(NODE2VEC_EDGE_LIST_FOLDER+patient_id+\"/\"+n+\"_elist.edg\", \n",
    "                                   weighted=False, directed=True, delimiter=\" \")\n",
    "                        emb_pp = g.embed(dim=dim, num_walks=num_walks, walk_length=walk_length)\n",
    "                        np.save(emb_fname, emb_pp)\n",
    "                \n",
    "    except Exception as e: \n",
    "        print (e)\n",
    "                "
   ]
  },
  {
   "cell_type": "markdown",
   "id": "204d8cb1",
   "metadata": {},
   "source": [
    "#### Word2Vec"
   ]
  },
  {
   "cell_type": "code",
   "execution_count": 75,
   "id": "1463042f",
   "metadata": {},
   "outputs": [],
   "source": [
    "def node2vec(graph_df, length=20, n=10, vec_size=64):\n",
    "    \n",
    "    G = StellarGraph(edges=graph_df)\n",
    "    rw = BiasedRandomWalk(G)\n",
    "    walks = rw.run(\n",
    "        nodes=list(G.nodes()),  # root nodes\n",
    "        length=length,  # maximum length of a random walk\n",
    "        n=n,  # number of random walks per root node\n",
    "        p=2,  # Defines (unormalised) probability, 1/p, of returning to source node\n",
    "        q=0.5,  # Defines (unormalised) probability, 1/q, for moving away from source node\n",
    "    )\n",
    "    model = Word2Vec(walks, vector_size=vec_size, window=5, min_count=0, sg=1, workers=20, epochs=5)\n",
    "    \n",
    "    # Retrieve node embeddings and corresponding subjects\n",
    "    node_ids = model.wv.index_to_key  # list of node IDs\n",
    "    node_embeddings = (model.wv.vectors)\n",
    "    \n",
    "    node_embed = pd.DataFrame(node_embeddings)     \n",
    "    node_embed.index = node_ids\n",
    "    \n",
    "#     node_embed = node_embed.loc[nodes]\n",
    "#     node_embed.to_csv(\"./\")\n",
    "    \n",
    "    return node_embed, walks"
   ]
  },
  {
   "cell_type": "code",
   "execution_count": null,
   "id": "9e46ed48",
   "metadata": {},
   "outputs": [],
   "source": []
  },
  {
   "cell_type": "code",
   "execution_count": 76,
   "id": "bc0a94da",
   "metadata": {},
   "outputs": [],
   "source": [
    "GRN_node2vec_Dataset=dict()\n",
    "incorrect_patients_grn = {}\n",
    "walk_length=20\n",
    "walk_per_node = 10\n",
    "vec_size=64"
   ]
  },
  {
   "cell_type": "code",
   "execution_count": 1,
   "id": "48f65e47",
   "metadata": {},
   "outputs": [],
   "source": [
    "for patient_id in tqdm.tqdm(grn_ids):\n",
    "    grn_file = patient_id+\"_grn.csv\"\n",
    "    try:\n",
    "        if grn_file.endswith(\"csv\"):\n",
    "            grn = pd.read_csv(GRN_FOLDER+grn_file)\n",
    "            grn_ctypes=grn.groupby(\"ctype\")\n",
    "            c_type_dict={}\n",
    "\n",
    "            for n,g_ctype in grn_ctypes:   \n",
    "\n",
    "                src=g_ctype[\"source\"].to_list()\n",
    "                trg=g_ctype[\"target\"].to_list()\n",
    "\n",
    "                src_trg_genes = sorted(list(set(src+trg)))\n",
    "                src_idxs = [src_trg_genes.index(gene) for gene in src]\n",
    "                trg_idxs = [src_trg_genes.index(gene) for gene in trg]\n",
    "\n",
    "                graph_df = pd.DataFrame({\"source\":src, \"target\":trg})\n",
    "                node_embed, walks = node2vec(graph_df)\n",
    "                c_type_dict[n]=node_embed\n",
    "                \n",
    "            GRN_node2vec_Dataset[patient_id] = c_type_dict\n",
    "    \n",
    "    except Exception as e: \n",
    "        incorrect_patients_grn[patient_id] = e"
   ]
  },
  {
   "cell_type": "code",
   "execution_count": 66,
   "id": "70f40c07",
   "metadata": {},
   "outputs": [
    {
     "data": {
      "text/plain": [
       "'GRN_node2vec_64dim_20rw_10walkpernode.pkl'"
      ]
     },
     "execution_count": 66,
     "metadata": {},
     "output_type": "execute_result"
    }
   ],
   "source": [
    "node2vec_grn_file = 'GRN_node2vec_'+str(vec_size)+'dim_'+str(walk_length)+'rw_'+str(walk_per_node)+'walkpernode.pkl'\n",
    "node2vec_grn_file"
   ]
  },
  {
   "cell_type": "code",
   "execution_count": null,
   "id": "540d2490",
   "metadata": {},
   "outputs": [],
   "source": [
    "with open(GRN_NODE2VEC_FOLDER +node2vec_grn_file, 'wb') as f:\n",
    "    pickle.dump(GRN_node2vec_Dataset, f)"
   ]
  },
  {
   "cell_type": "code",
   "execution_count": null,
   "id": "39e3602a",
   "metadata": {},
   "outputs": [],
   "source": []
  },
  {
   "cell_type": "code",
   "execution_count": null,
   "id": "7b77500e",
   "metadata": {},
   "outputs": [],
   "source": []
  },
  {
   "cell_type": "code",
   "execution_count": null,
   "id": "9a0db480",
   "metadata": {},
   "outputs": [],
   "source": []
  },
  {
   "cell_type": "code",
   "execution_count": null,
   "id": "e6ea7872",
   "metadata": {},
   "outputs": [],
   "source": []
  }
 ],
 "metadata": {
  "kernelspec": {
   "display_name": "Python 3 (ipykernel)",
   "language": "python",
   "name": "python3"
  },
  "language_info": {
   "codemirror_mode": {
    "name": "ipython",
    "version": 3
   },
   "file_extension": ".py",
   "mimetype": "text/x-python",
   "name": "python",
   "nbconvert_exporter": "python",
   "pygments_lexer": "ipython3",
   "version": "3.10.12"
  }
 },
 "nbformat": 4,
 "nbformat_minor": 5
}
